{
 "cells": [
  {
   "cell_type": "code",
   "execution_count": 1,
   "metadata": {},
   "outputs": [
    {
     "name": "stdout",
     "output_type": "stream",
     "text": [
      "4\n"
     ]
    },
    {
     "data": {
      "text/plain": [
       "4"
      ]
     },
     "metadata": {},
     "output_type": "display_data"
    }
   ],
   "source": [
    "# To start this notebook with more than one thread, change the extension setting in vs, search for thread,\n",
    "# and change the Max Threads as well as settings.json.\n",
    "# This will speed up the computations for running multiple chains. \n",
    "\n",
    "# Ensure that Julia was launched with an appropriate number of threads\n",
    "println(Threads.nthreads())\n",
    "nr_chains = 4 # number of chains to sample, corresponding to the threads"
   ]
  },
  {
   "cell_type": "code",
   "execution_count": 2,
   "metadata": {},
   "outputs": [
    {
     "data": {
      "text/plain": [
       "PostProcess (generic function with 1 method)"
      ]
     },
     "metadata": {},
     "output_type": "display_data"
    }
   ],
   "source": [
    "# using Pkg\n",
    "# Pkg.add(\"Turing\")\n",
    "using Plots # to plot things\n",
    "using Random, Distributions # generate random noise\n",
    "using LinearAlgebra # identity matrix\n",
    "using Turing # sampling package\n",
    "using StatsPlots\n",
    "using StatsBase # for defining customized distributions \n",
    "\n",
    "using QuadGK\n",
    "using BasicBSpline\n",
    "using LaTeXStrings\n",
    "\n",
    "using Optim # for ML and MAP estimation \n",
    "\n",
    "using SparseArrays\n",
    "\n",
    "include(\"../src/Mesh_fun.jl\")\n",
    "include(\"../src/FE_fun.jl\")\n",
    "include(\"../src/SIACMatrix.jl\")\n"
   ]
  },
  {
   "cell_type": "code",
   "execution_count": 3,
   "metadata": {},
   "outputs": [
    {
     "name": "stdout",
     "output_type": "stream",
     "text": [
      "Generating data for N = 100\n",
      "Generating data for N = 200\n",
      "Generating data for N = 400\n",
      "Generating data for N = 800\n",
      "All data has been generated!\n"
     ]
    }
   ],
   "source": [
    "# define test function\n",
    "# testFun(x)=@. 2*x*sin(pi*x)\n",
    "testFun(x)=@. sin(2*pi*x)+0.5*cos(4pi*x)^2 + 0.5\n",
    "\n",
    "# define parameters\n",
    "# N = 100 # number of points\n",
    "# Define the list of N values\n",
    "N_values = [100, 200, 400, 800] # Note: due to the choice of SIAC parameters, we need at least 52 points.\n",
    "\n",
    "# variance of the iid Gaussian noise added to the measurements\n",
    "σ² = 0.05 \n",
    "# Piecewise Polynomial Setup for SIAC Filter\n",
    "p = 3\n",
    "\n",
    "# Dictionary to store results for each N\n",
    "results = Dict()\n",
    "\n",
    "for N in N_values\n",
    "    println(\"Generating data for N = $N\")\n",
    "\n",
    "    # generate true physical data on the uniform grid\n",
    "    xx = collect(LinRange(0,1,N))\n",
    "    fx = testFun(xx) \n",
    "\n",
    "    # forward operator, noise, and noisy data\n",
    "    # forward operator -- use the identity matrix for now\n",
    "    F = Matrix(1.0I, N, N)  # Identity matrix of Float64 type\n",
    "    Random.seed!(123) # Setting the seed\n",
    "    noise = rand( Normal(0,sqrt(σ²)), N )\n",
    "    fx_noisy = F * fx + noise\n",
    "\n",
    "    # SIAC matrix\n",
    "    # Create SIAC Matrix, with periodic boundary treatment\n",
    "    Ffil = global_SIAC_Mat(p, xx, boundaryTreatment=\"periodic\")\n",
    "    # filtered noisy data\n",
    "    fx_noisy_filter = Ffil*fx_noisy\n",
    "\n",
    "    # Store results\n",
    "    results[N] = (xx, fx, F, fx_noisy, Ffil, fx_noisy_filter)\n",
    "end\n",
    "\n",
    "println(\"All data has been generated!\")"
   ]
  },
  {
   "cell_type": "markdown",
   "metadata": {},
   "source": [
    "# Set up the statistical model \n",
    "\n",
    "We consider the following model: \n",
    "\\begin{align*}\n",
    "    \\mathbf{fx\\_noisy} & \\sim \\mathcal{N}(F\\mathbf{u},\\sigma^2*I) = \\mathcal{N}(F\\mathbf{u},\\alpha^{-1}*I), \\\\\n",
    "    R \\mathbf{u} & \\sim \\mathcal{N}(\\mathbf{0},\\beta^{-1}*I), \\\\ \n",
    "\\end{align*}\n",
    "where $R$ is the regularization operator. \n",
    "The associated posterior log PDF is \n",
    "$$            \n",
    "                -\\frac{\\alpha}{2}  \\| F\\mathbf{u} - \\mathbf{fx\\_noisy} \\|_2^2 \n",
    "                -\\frac{\\beta}{2}  \\| R\\mathbf{u} \\|_2^2 \n",
    "                - d \\alpha - d\\beta + (\\frac{N}{2}+c-1)\\log \\alpha + (\\frac{N}{2}+c-1)\\log \\beta.\n",
    "$$"
   ]
  },
  {
   "cell_type": "code",
   "execution_count": 4,
   "metadata": {},
   "outputs": [
    {
     "name": "stdout",
     "output_type": "stream",
     "text": [
      "Setting up statistical model for N = 100\n",
      "Setting up statistical model for N = 200\n",
      "Setting up statistical model for N = 400\n",
      "Setting up statistical model for N = 800\n",
      "All statistical models are set up!\n"
     ]
    }
   ],
   "source": [
    "# Set up the statistical model\n",
    "\n",
    "for N in N_values\n",
    "    println(\"Setting up statistical model for N = $N\")\n",
    "\n",
    "    # Retrieve stored data\n",
    "    xx, fx, F, fx_noisy, Ffil, fx_noisy_filter = results[N]\n",
    "\n",
    "    # regularization operator\n",
    "    R = Matrix(1.0I, N, N) - Ffil\n",
    "\n",
    "    c = 1\n",
    "    d = 1.0e-3\n",
    "\n",
    "    # Store results\n",
    "    results[N] = (xx, fx, F, fx_noisy, Ffil, fx_noisy_filter, R, c, d)\n",
    "end\n",
    "\n",
    "# Define the posterior log-PDF for both unknown signal and hyperparameters  \n",
    "function logpdf_posterior(z, F, fx_noisy, R, c, d, N) \n",
    "    u, α, β = z[1:end-2], z[end-1], z[end]\n",
    "\n",
    "    if α<=0 || β<=0\n",
    "        logpdf = -Inf\n",
    "    else\n",
    "        logpdf = -(.5α)*norm(F*u-fx_noisy)^2 -(.5β)*norm(R*u)^2 - d*α - d*β + (N/2+c-1)*log(α) + (N/2+c-1)*log(β)\n",
    "    end\n",
    "    \n",
    "    return logpdf\n",
    "end\n",
    "\n",
    "println(\"All statistical models are set up!\")"
   ]
  },
  {
   "cell_type": "markdown",
   "metadata": {},
   "source": [
    "# MAP estimate\n",
    "\n",
    "We will compare the MAP estimates obtained from the built-in optimizer (limited-memory Broyden–Fletcher–Goldfarb–Shanno L-BFGS algorithm) and the Block Coordinate Descent (BCD) algorithm."
   ]
  },
  {
   "cell_type": "markdown",
   "metadata": {},
   "source": [
    "## L-BFGS"
   ]
  },
  {
   "cell_type": "code",
   "execution_count": 5,
   "metadata": {},
   "outputs": [
    {
     "name": "stdout",
     "output_type": "stream",
     "text": [
      "Computing MAP estimate using LBFGS for N = 100\n",
      "Computing MAP estimate using LBFGS for N = 200\n",
      "Computing MAP estimate using LBFGS for N = 400\n",
      "Computing MAP estimate using LBFGS for N = 800\n",
      "All MAP estimations are completed!\n"
     ]
    }
   ],
   "source": [
    "# Dictionary to store MAP estimates\n",
    "map_results_LBFGS = Dict()\n",
    "\n",
    "for N in N_values\n",
    "    println(\"Computing MAP estimate using LBFGS for N = $N\")\n",
    "    \n",
    "    # Retrieve stored values\n",
    "    xx, fx, F, fx_noisy, Ffil, fx_noisy_filter, R, c, d = results[N]\n",
    "\n",
    "    # Initial guess for the optimization (u, α and β)\n",
    "    initial_guess = vcat(zeros(N), 1.0, 1.0)\n",
    "\n",
    "    # Define a function handle for Optim.jl\n",
    "    neg_logpdf(z) = -logpdf_posterior(z, F, fx_noisy, R, d, c, N)\n",
    "\n",
    "    # Obtain MAP estimate using built-in optimizer\n",
    "    # Measure execution time\n",
    "    tLBFGS = @elapsed begin # execution time\n",
    "        # MAP estimation\n",
    "        map_estimate = optimize(neg_logpdf, initial_guess, LBFGS())\n",
    "    end\n",
    "\n",
    "    # Extract the MAP estimate of u\n",
    "    fx_LBFGS_tmp = Optim.minimizer(map_estimate)\n",
    "    fx_LBFGS = fx_LBFGS_tmp[1:end-2]\n",
    "\n",
    "    # Store results\n",
    "    map_results_LBFGS[N] = (fx_LBFGS, tLBFGS)\n",
    "end\n",
    "\n",
    "println(\"All MAP estimations are completed!\")"
   ]
  },
  {
   "cell_type": "markdown",
   "metadata": {},
   "source": [
    "## BCD"
   ]
  },
  {
   "cell_type": "code",
   "execution_count": 6,
   "metadata": {},
   "outputs": [
    {
     "data": {
      "text/plain": [
       "BCD_1d_scalar (generic function with 1 method)"
      ]
     },
     "metadata": {},
     "output_type": "display_data"
    }
   ],
   "source": [
    "# set up BCD function\n",
    "using SparseArrays\n",
    "\n",
    "function BCD_1d_scalar(F, y, R, c, d, QUIET)\n",
    "\n",
    "    t_start = time()  # Measure time\n",
    "\n",
    "    # Global constants and defaults\n",
    "    MIN_ITER = 0\n",
    "    MAX_ITER = 1000\n",
    "    ABSTOL = 1e-8\n",
    "    RELTOL = 1e-4\n",
    "\n",
    "    # Data preprocessing\n",
    "    m, n = size(F)  # number of (indirect) measurements and pixels\n",
    "    k = size(R, 1)  # number of outputs of the regularization operator\n",
    "    FtF = sparse(F' * F)  # product corresponding to the forward operator\n",
    "    Fty = F' * y  # forward operator applied to the indirect data\n",
    "\n",
    "    # Initial values for the inverse variances and the mean and others\n",
    "    aalpha = 0.1\n",
    "    bbeta = 1\n",
    "    mu = zeros(n)\n",
    "    mu_OLD = zeros(n)  # mean\n",
    "\n",
    "    C_inv = Matrix(1.0I, n, n)\n",
    "\n",
    "    abs_error = 0\n",
    "    rel_error = 0\n",
    "\n",
    "    if !QUIET\n",
    "        println(\"iter\\t abs error\\t abs tol\\t rel error\\t rel tol\")\n",
    "    end\n",
    "\n",
    "    # Iterate between the update steps until convergence or max number of iterations\n",
    "    for counter in 1:MAX_ITER\n",
    "\n",
    "        # 1) Fix aalpha, bbeta, and update x\n",
    "        C_inv = sparse(aalpha * FtF + bbeta * R' * R)  # update covariance matrix\n",
    "        mu = C_inv \\ (aalpha * Fty)  # update the mean\n",
    "\n",
    "        # 2) Fix x, B and update aalpha\n",
    "        aalpha = (m + 2 * c) / (norm(F * mu - y)^2 + 2 * d)\n",
    "\n",
    "        # 3) Fix x, aalpha and update B\n",
    "        bbeta = (n + 2 * c) / (norm(R * mu)^2 + 2 * d)\n",
    "\n",
    "        # Store certain values in history structure\n",
    "        abs_error = norm(mu - mu_OLD)^2  # absolute error\n",
    "        rel_error = (norm(mu - mu_OLD) / norm(mu_OLD))^2  # relative error\n",
    "\n",
    "        mu_OLD = mu  # store value of mu\n",
    "\n",
    "        if !QUIET\n",
    "            println(\"$(counter)\\t $(abs_error)\\t $(ABSTOL)\\t $(rel_error)\\t $(RELTOL)\")\n",
    "        end\n",
    "\n",
    "        # Check for convergence\n",
    "        if abs_error < ABSTOL && rel_error < RELTOL && counter > MIN_ITER\n",
    "            break\n",
    "        end\n",
    "\n",
    "    end\n",
    "\n",
    "    # Output the time it took to perform all operations\n",
    "    if !QUIET\n",
    "        println(\"Elapsed time: \", time() - t_start, \" seconds\")\n",
    "    end\n",
    "\n",
    "    return mu, C_inv, aalpha, bbeta, Dict(\"abs_error\" => abs_error, \"rel_error\" => rel_error)\n",
    "end"
   ]
  },
  {
   "cell_type": "code",
   "execution_count": 7,
   "metadata": {},
   "outputs": [
    {
     "name": "stdout",
     "output_type": "stream",
     "text": [
      "Computing MAP estimate using BCD for N = 100\n",
      "iter\t abs error\t abs tol\t rel error\t rel tol\n",
      "1\t 108.01713463921439\t 1.0e-8\t Inf\t 0.0001\n",
      "2\t 0.1008690037317874\t 1.0e-8\t 0.0009338241017843853\t 0.0001\n",
      "3\t 0.06835619187844917\t 1.0e-8\t 0.0006342583531601523\t 0.0001\n",
      "4\t 0.0034393450745363874\t 1.0e-8\t 3.195162123908988e-5\t 0.0001\n",
      "5\t 4.167835195122321e-6\t 1.0e-8\t 3.872637420001169e-8\t 0.0001\n",
      "6\t 2.8338742803050538e-9\t 1.0e-8\t 2.6331746901783367e-11\t 0.0001\n",
      "Elapsed time: 0.050492048263549805 seconds\n",
      "Computing MAP estimate using BCD for N = 200\n",
      "iter\t abs error\t abs tol\t rel error\t rel tol\n",
      "1\t 212.56719834860053\t 1.0e-8\t Inf\t 0.0001\n",
      "2\t 0.19204608196529052\t 1.0e-8\t 0.0009034605689742577\t 0.0001\n",
      "3\t 0.14050942152622448\t 1.0e-8\t 0.0006624095445607871\t 0.0001\n",
      "4\t 0.013119063817657288\t 1.0e-8\t 6.192454425669237e-5\t 0.0001\n",
      "5\t 1.2604163289943729e-5\t 1.0e-8\t 5.9511687269737245e-8\t 0.0001\n",
      "6\t 4.842696817394352e-9\t 1.0e-8\t 2.2865421513420173e-11\t 0.0001\n",
      "Elapsed time: 0.028203964233398438 seconds\n",
      "Computing MAP estimate using BCD for N = 400\n",
      "iter\t abs error\t abs tol\t rel error\t rel tol\n",
      "1\t 437.05776630780514\t 1.0e-8\t Inf\t 0.0001\n",
      "2\t 0.3479193420307503\t 1.0e-8\t 0.0007960488723719929\t 0.0001\n",
      "3\t 0.5910374551949878\t 1.0e-8\t 0.0013552650252831487\t 0.0001\n",
      "4\t 0.07665916951814851\t 1.0e-8\t 0.0001762054685268475\t 0.0001\n",
      "5\t 0.00016843211454838916\t 1.0e-8\t 3.873326109751687e-7\t 0.0001\n",
      "6\t 8.977341438038194e-8\t 1.0e-8\t 2.0645025486685315e-10\t 0.0001\n",
      "7\t 4.476195517387262e-11\t 1.0e-8\t 1.0293828444548747e-13\t 0.0001\n",
      "Elapsed time: 0.01236104965209961 seconds\n",
      "Computing MAP estimate using BCD for N = 800\n",
      "iter\t abs error\t abs tol\t rel error\t rel tol\n",
      "1\t 866.311742082393\t 1.0e-8\t Inf\t 0.0001\n",
      "2\t 0.6603175501802477\t 1.0e-8\t 0.0007622170150816751\t 0.0001\n",
      "3\t 0.8683199144690374\t 1.0e-8\t 0.0010042405332132175\t 0.0001\n",
      "4\t 0.2432085339171609\t 1.0e-8\t 0.00028179952333149815\t 0.0001\n",
      "5\t 0.0008459072526942229\t 1.0e-8\t 9.809268129337467e-7\t 0.0001\n",
      "6\t 4.598699385513502e-7\t 1.0e-8\t 5.332951607187508e-10\t 0.0001\n",
      "7\t 2.3265113255113604e-10\t 1.0e-8\t 2.697976907099864e-13\t 0.0001\n",
      "Elapsed time: 0.06188702583312988 seconds\n",
      "All MAP estimations (BCD) are completed!\n"
     ]
    }
   ],
   "source": [
    "# Dictionary to store MAP estimates using BCD\n",
    "map_results_BCD = Dict()\n",
    "\n",
    "for N in N_values\n",
    "    println(\"Computing MAP estimate using BCD for N = $N\")\n",
    "\n",
    "    # Retrieve stored values\n",
    "    xx, fx, F, fx_noisy, Ffil, fx_noisy_filter, R, c, d = results[N]\n",
    "\n",
    "    # Obtain MAP estimate using BCD algorithm\n",
    "    tBCD = @elapsed begin # execution time\n",
    "        # Perform MAP estimation using BCD algorithm\n",
    "        fx_BCD, C_inv, aalpha, bbeta, history = BCD_1d_scalar(F, fx_noisy, R, c, d, false ); \n",
    "    end\n",
    "\n",
    "    # Store results\n",
    "    map_results_BCD[N] = (fx_BCD, C_inv, aalpha, bbeta, history, tBCD)\n",
    "end\n",
    "\n",
    "println(\"All MAP estimations (BCD) are completed!\")"
   ]
  },
  {
   "cell_type": "code",
   "execution_count": 8,
   "metadata": {},
   "outputs": [
    {
     "name": "stdout",
     "output_type": "stream",
     "text": [
      "\n",
      "Execution Time & Relative L2 Error Summary\n",
      "===========================================================================================\n",
      "N          Time (LBFGS)    Time (BCD)      Rel l2 Err (LBFGS) Rel l2 Err (BCD) Rel l2 Err (SIAC)\n",
      "-------------------------------------------------------------------------------------------\n",
      "100        7.1e-01         2.3e+00         1.3e-01         4.8e-02         7.2e-02        \n",
      "200        5.2e-01         2.8e-02         1.4e-01         6.4e-02         8.7e-02        \n",
      "400        1.0e+01         1.2e-02         9.5e-02         5.5e-02         9.3e-02        \n",
      "800        1.4e+02         6.2e-02         8.6e-02         5.6e-02         9.0e-02        \n",
      "===========================================================================================\n"
     ]
    }
   ],
   "source": [
    "using Printf\n",
    "\n",
    "# Print table header\n",
    "println(\"\\nExecution Time & Relative L2 Error Summary\")\n",
    "println(\"===========================================================================================\")\n",
    "println(@sprintf(\"%-10s %-15s %-15s %-15s %-15s %-15s\", \"N\", \"Time (LBFGS)\", \"Time (BCD)\", \"Rel l2 Err (LBFGS)\", \"Rel l2 Err (BCD)\", \"Rel l2 Err (SIAC)\"))\n",
    "println(\"-------------------------------------------------------------------------------------------\")\n",
    "\n",
    "# Loop over N values to compute errors and print results\n",
    "for N in N_values\n",
    "    # Retrieve execution times\n",
    "    time_LBFGS = map_results_LBFGS[N][2]  # Time for LBFGS method\n",
    "    time_BCD = map_results_BCD[N][6]      # Time for BCD method\n",
    "\n",
    "    # Retrieve true and estimated solutions\n",
    "    fx_true = results[N][2]  # True solution fx\n",
    "    fx_LBFGS = map_results_LBFGS[N][1]  # Optim estimate\n",
    "    fx_BCD = map_results_BCD[N][1]    # BCD estimate\n",
    "\n",
    "    # Compute relative L2 errors\n",
    "    rel_l2_err_LBFGS = norm(fx_LBFGS - fx_true) / norm(fx_true)\n",
    "    rel_l2_err_BCD = norm(fx_BCD - fx_true) / norm(fx_true)\n",
    "\n",
    "    xx, fx, F, fx_noisy, Ffil, fx_noisy_filter = results[N]\n",
    "    rel_l2_err_SIAC = norm(fx_noisy_filter - fx_true) / norm(fx_true)\n",
    "\n",
    "    # Print table row\n",
    "    println(@sprintf(\"%-10d %-15.1e %-15.1e %-15.1e %-15.1e %-15.1e\", N, time_LBFGS, time_BCD, rel_l2_err_LBFGS, rel_l2_err_BCD, rel_l2_err_SIAC))\n",
    "end\n",
    "\n",
    "println(\"===========================================================================================\")"
   ]
  }
 ],
 "metadata": {
  "kernelspec": {
   "display_name": "Julia 1.10.5",
   "language": "julia",
   "name": "julia-1.10"
  },
  "language_info": {
   "file_extension": ".jl",
   "mimetype": "application/julia",
   "name": "julia",
   "version": "1.10.5"
  }
 },
 "nbformat": 4,
 "nbformat_minor": 2
}
